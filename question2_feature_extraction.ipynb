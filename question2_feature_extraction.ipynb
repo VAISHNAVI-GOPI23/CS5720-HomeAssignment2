{
  "nbformat": 4,
  "nbformat_minor": 0,
  "metadata": {
    "colab": {
      "provenance": []
    },
    "kernelspec": {
      "name": "python3",
      "display_name": "Python 3"
    },
    "language_info": {
      "name": "python"
    }
  },
  "cells": [
    {
      "cell_type": "code",
      "execution_count": 1,
      "metadata": {
        "colab": {
          "base_uri": "https://localhost:8080/",
          "height": 501
        },
        "id": "b_YkVXh7cEvw",
        "outputId": "66e76773-bd44-4eac-b2bd-7574b24ef64f"
      },
      "outputs": [
        {
          "output_type": "display_data",
          "data": {
            "text/plain": [
              "<Figure size 1000x300 with 3 Axes>"
            ],
            "image/png": "[encoded data removed]"
          },
          "metadata": {}
        },
        {
          "output_type": "stream",
          "name": "stdout",
          "text": [
            "Original Matrix:\n",
            " [[7. 5. 3. 0.]\n",
            " [0. 8. 4. 1.]\n",
            " [4. 6. 9. 8.]\n",
            " [1. 7. 5. 7.]]\n",
            "Max Pooled Matrix:\n",
            " [[8. 4.]\n",
            " [7. 9.]]\n",
            "Average Pooled Matrix:\n",
            " [[5.   2.  ]\n",
            " [4.5  7.25]]\n"
          ]
        }
      ],
      "source": [
        "# Question 2: Feature Extraction - Sobel Filters and Pooling\n",
        "# Author: <Vaishnavi Gopi>\n",
        "# Student id:700754518\n",
        "\n",
        "import numpy as np\n",
        "import cv2\n",
        "import matplotlib.pyplot as plt\n",
        "import tensorflow as tf\n",
        "\n",
        "# -----------------------\n",
        "# Task 1: Sobel Edge Detection\n",
        "# -----------------------\n",
        "\n",
        "# Create dummy grayscale image\n",
        "image = np.array([\n",
        "    [10, 10, 10, 10, 10],\n",
        "    [10, 50, 50, 50, 10],\n",
        "    [10, 50,100, 50, 10],\n",
        "    [10, 50, 50, 50, 10],\n",
        "    [10, 10, 10, 10, 10]\n",
        "], dtype=np.uint8)\n",
        "\n",
        "# Apply Sobel Filters\n",
        "sobel_x = cv2.Sobel(image, cv2.CV_64F, 1, 0, ksize=3)\n",
        "sobel_y = cv2.Sobel(image, cv2.CV_64F, 0, 1, ksize=3)\n",
        "\n",
        "# Display the results\n",
        "plt.figure(figsize=(10, 3))\n",
        "plt.subplot(1, 3, 1)\n",
        "plt.title(\"Original\")\n",
        "plt.imshow(image, cmap='gray')\n",
        "plt.subplot(1, 3, 2)\n",
        "plt.title(\"Sobel-X\")\n",
        "plt.imshow(sobel_x, cmap='gray')\n",
        "plt.subplot(1, 3, 3)\n",
        "plt.title(\"Sobel-Y\")\n",
        "plt.imshow(sobel_y, cmap='gray')\n",
        "plt.tight_layout()\n",
        "plt.show()\n",
        "\n",
        "# -----------------------\n",
        "# Task 2: Max and Avg Pooling\n",
        "# -----------------------\n",
        "\n",
        "# Create a 4x4 random input image\n",
        "input_image = np.random.randint(0, 10, (1, 4, 4, 1)).astype(np.float32)\n",
        "print(\"Original Matrix:\\n\", input_image[0, :, :, 0])\n",
        "\n",
        "# Max Pooling\n",
        "max_pool = tf.nn.max_pool2d(input_image, ksize=2, strides=2, padding='VALID')\n",
        "print(\"Max Pooled Matrix:\\n\", max_pool[0, :, :, 0].numpy())\n",
        "\n",
        "# Average Pooling\n",
        "avg_pool = tf.nn.avg_pool2d(input_image, ksize=2, strides=2, padding='VALID')\n",
        "print(\"Average Pooled Matrix:\\n\", avg_pool[0, :, :, 0].numpy())\n"
      ]
    }
  ]
}