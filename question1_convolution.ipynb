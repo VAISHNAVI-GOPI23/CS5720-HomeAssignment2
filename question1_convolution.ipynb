{
  "nbformat": 4,
  "nbformat_minor": 0,
  "metadata": {
    "colab": {
      "provenance": []
    },
    "kernelspec": {
      "name": "python3",
      "display_name": "Python 3"
    },
    "language_info": {
      "name": "python"
    }
  },
  "cells": [
    {
      "cell_type": "code",
      "execution_count": 1,
      "metadata": {
        "colab": {
          "base_uri": "https://localhost:8080/"
        },
        "id": "GB8RDL1aaQK3",
        "outputId": "2b2e950b-efa1-4245-8055-8931041bb2f5"
      },
      "outputs": [
        {
          "output_type": "stream",
          "name": "stdout",
          "text": [
            "Stride=1, Padding='VALID':\n",
            " [[-4. -2. -2.]\n",
            " [ 2. -4. -6.]\n",
            " [ 6.  2. -4.]]\n",
            "Stride=1, Padding='SAME':\n",
            " [[-3. -4.  0.  0.  3.]\n",
            " [-3. -4. -2. -2.  5.]\n",
            " [-2.  2. -4. -6.  6.]\n",
            " [-5.  6.  2. -4.  3.]\n",
            " [-5.  6.  4. -2.  1.]]\n",
            "Stride=2, Padding='VALID':\n",
            " [[-4. -2.]\n",
            " [ 6. -4.]]\n",
            "Stride=2, Padding='SAME':\n",
            " [[-3.  0.  3.]\n",
            " [-2. -4.  6.]\n",
            " [-5.  4.  1.]]\n"
          ]
        }
      ],
      "source": [
        "# Question 1: Convolution Operations with Different Parameters\n",
        "# Author: <Vaishnavi gopi>\n",
        "# Student id : 700754518\n",
        "# Course: CS5720 - Neural Networks and Deep Learning\n",
        "\n",
        "import numpy as np\n",
        "import tensorflow as tf\n",
        "\n",
        "# Define 5x5 input matrix\n",
        "input_matrix = np.array([\n",
        "    [1, 2, 3, 0, 1],\n",
        "    [0, 1, 2, 3, 4],\n",
        "    [1, 0, 1, 2, 3],\n",
        "    [4, 1, 0, 1, 2],\n",
        "    [3, 4, 1, 0, 1]\n",
        "], dtype=np.float32)\n",
        "\n",
        "# Define 3x3 kernel\n",
        "kernel = np.array([\n",
        "    [1, 0, -1],\n",
        "    [1, 0, -1],\n",
        "    [1, 0, -1]\n",
        "], dtype=np.float32)\n",
        "\n",
        "# Reshape input and kernel for TensorFlow\n",
        "input_tensor = tf.constant(input_matrix.reshape(1, 5, 5, 1))\n",
        "kernel_tensor = tf.constant(kernel.reshape(3, 3, 1, 1))\n",
        "\n",
        "# Function to apply convolution\n",
        "def apply_conv(stride, padding):\n",
        "    result = tf.nn.conv2d(input=input_tensor, filters=kernel_tensor,\n",
        "                          strides=[1, stride, stride, 1], padding=padding)\n",
        "    return tf.squeeze(result).numpy()\n",
        "\n",
        "# Run and print results\n",
        "print(\"Stride=1, Padding='VALID':\\n\", apply_conv(1, 'VALID'))\n",
        "print(\"Stride=1, Padding='SAME':\\n\", apply_conv(1, 'SAME'))\n",
        "print(\"Stride=2, Padding='VALID':\\n\", apply_conv(2, 'VALID'))\n",
        "print(\"Stride=2, Padding='SAME':\\n\", apply_conv(2, 'SAME'))\n"
      ]
    }
  ]
}